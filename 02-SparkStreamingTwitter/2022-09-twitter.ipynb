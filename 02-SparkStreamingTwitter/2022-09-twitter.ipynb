{
 "cells": [
  {
   "cell_type": "code",
   "execution_count": null,
   "metadata": {},
   "outputs": [],
   "source": [
    "# API token: CFY7aWW8Q1DBXNZJuXYWc5Mry\n",
    "# API key secret: WH9UhfKhAlbKWAqXaYYeTFwSUY8SiduIQ0BevaDlvokTdoNZQa\n",
    "# API Bearer Token: AAAAAAAAAAAAAAAAAAAAAP43hgEAAAAACg4YSfVjYuuiqHn9roK%2Bs97tCvc%3DJH5PZ3kg3Mp3UgYk3E4UBylaRYe0nIqFV2moBq9vsUjwNgRnFi\n",
    "\n",
    "# Access Token: 1228500338912743425-YCNQtsvBHVjpL8dlQkyNEJfGaQKZeu\n",
    "# access Token secret: iUVtmwPkOdhLrcqZJIETgh5U70LU9A515RgAf2wXc7SDd"
   ]
  },
  {
   "cell_type": "code",
   "execution_count": 25,
   "metadata": {},
   "outputs": [],
   "source": [
    "import pandas as pd\n",
    "# Importing the libraries\n",
    "import configparser\n",
    "import tweepy"
   ]
  },
  {
   "cell_type": "code",
   "execution_count": 27,
   "metadata": {},
   "outputs": [],
   "source": [
    "# Importing the libraries\n",
    "import configparser\n",
    "import tweepy\n",
    "\n",
    "# Credentials (INSERT YOUR KEYS AND TOKENS IN THE STRINGS BELOW)\n",
    "api_key = 'zxLaj80ncq7Lbwmp3rymaS7pq'\n",
    "api_key_secret = 'bXMZZZD74C5TuqaHO9c5mFgVOxSZDutO4cKQ11oFx96bxkG2f0'\n",
    "bearer_token = r'AAAAAAAAAAAAAAAAAAAAAHY5hgEAAAAArW3fPAPtl8cy2jpDdH6z8Ky14vE%3DL6Ysu5eGYLvkEWfTblTh3x5UDcBdQRJgedPIVTpYdxqs0aFnSM'\n",
    "access_token = '1228500338912743425-sV66JFOTer2BtQyJHUv7GMWo4eKV50'\n",
    "access_token_secret = 'HTYlI7UmiNn2SV3WEdnTtelMDpSUWJWmBrhMHeRZHutD9'\n"
   ]
  },
  {
   "cell_type": "code",
   "execution_count": 28,
   "metadata": {},
   "outputs": [],
   "source": [
    "# Import Tweepy\n",
    "import tweepy\n",
    "\n",
    "# Authenticate\n",
    "auth = tweepy.OAuthHandler(api_key, api_key_secret)\n",
    "auth.set_access_token(access_token, access_token_secret)\n",
    "api = tweepy.API(auth)"
   ]
  },
  {
   "cell_type": "code",
   "execution_count": 33,
   "metadata": {},
   "outputs": [
    {
     "data": {
      "text/plain": [
       "'Henrique Krupck'"
      ]
     },
     "execution_count": 33,
     "metadata": {},
     "output_type": "execute_result"
    }
   ],
   "source": [
    "# using get_user with id\n",
    "put_your_user_id = \"1228500338912743425\"\n",
    "user1 = api.get_user(user_id = put_your_user_id)\n",
    "user1.name"
   ]
  },
  {
   "cell_type": "code",
   "execution_count": 34,
   "metadata": {},
   "outputs": [
    {
     "data": {
      "text/plain": [
       "1228500338912743425"
      ]
     },
     "execution_count": 34,
     "metadata": {},
     "output_type": "execute_result"
    }
   ],
   "source": [
    "# using get_user with screen_name\n",
    "put_your_screen_name = \"HKrupck\"\n",
    "user2 = api.get_user(screen_name=put_your_screen_name)\n",
    "user2.id"
   ]
  },
  {
   "cell_type": "code",
   "execution_count": null,
   "metadata": {},
   "outputs": [],
   "source": [
    "print(user1.description)\n",
    "# Output: 'You want to be an algorithmic trader? QuantInsti is your go-to resource for all things quant. Jump right in!'\n",
    "\n",
    "print(f'The user {user2.screen_name} was created on {(user2.created_at).strftime(\"%m/%d/%Y, %H:%M:%S\")}')\n",
    "# Output: The user QuantInsti was created on 10/09/2012, 10:48:17"
   ]
  },
  {
   "cell_type": "code",
   "execution_count": null,
   "metadata": {},
   "outputs": [],
   "source": [
    "# Fetch public tweets from home timeline\n",
    "public_tweets = api.home_timeline()"
   ]
  },
  {
   "cell_type": "code",
   "execution_count": null,
   "metadata": {},
   "outputs": [],
   "source": [
    "# Create a list of columns for the fields we are interested in\n",
    "columns = ['Time', 'User', 'Tweet']\n",
    "\n",
    "# Initialize a list\n",
    "data = []\n",
    "\n",
    "# Initialize a counter for the serial number\n",
    "i= 1\n",
    "for tweet in public_tweets:\n",
    "    data.append([tweet.created_at, tweet.user.screen_name, tweet.text])\n",
    "    print(f\"{i}. User: {tweet.user.screen_name}\\n Tweet: {tweet.text}\")\n",
    "    i +=1 \n",
    "\n",
    "df = pd.DataFrame(data, columns=columns)\n",
    "\n",
    "df.head(5)\n",
    "\n"
   ]
  },
  {
   "cell_type": "code",
   "execution_count": null,
   "metadata": {},
   "outputs": [],
   "source": [
    "screen_name = 'elonmusk'\n",
    "\n",
    "#tweet_mode='extended'\n",
    "tweets = api.user_timeline(screen_name=screen_name, count=200 )\n",
    "\n",
    "\n",
    "# Create a list of columns for the fields we are interested in\n",
    "columns = ['Time', 'User', 'Tweet']\n",
    "\n",
    "# Initialize a list\n",
    "data = []\n",
    "\n",
    "# Initialize a counter for the serial number\n",
    "i= 1\n",
    "for tweet in tweets:\n",
    "    data.append([tweet.created_at, tweet.user.screen_name, tweet.text])\n",
    "    i +=1 \n",
    "\n",
    "df = pd.DataFrame(data, columns=columns)\n",
    "\n",
    "print(df.shape)\n",
    "df.head(5)"
   ]
  },
  {
   "cell_type": "markdown",
   "metadata": {},
   "source": [
    "## Get tweets by a keyword and hashtag"
   ]
  },
  {
   "cell_type": "code",
   "execution_count": null,
   "metadata": {},
   "outputs": [],
   "source": [
    "keyword = 'cryptocurrencies'\n",
    "limit=300\n",
    "\n",
    "tweets = tweepy.Cursor(api.search_tweets, q=keyword, tweet_mode='extended').items(limit)"
   ]
  },
  {
   "cell_type": "code",
   "execution_count": null,
   "metadata": {},
   "outputs": [],
   "source": [
    "hashtag = '#luna2'\n",
    "limit=300\n",
    "\n",
    "tweets = tweepy.Cursor(api.search_tweets, q=hashtag, tweet_mode='extended').items(limit)"
   ]
  },
  {
   "cell_type": "markdown",
   "metadata": {},
   "source": [
    "## Tweets real time"
   ]
  },
  {
   "cell_type": "code",
   "execution_count": 8,
   "metadata": {},
   "outputs": [],
   "source": [
    "# Importing Tweepy and time\n",
    "import tweepy\n",
    "import time"
   ]
  },
  {
   "cell_type": "code",
   "execution_count": 9,
   "metadata": {},
   "outputs": [],
   "source": [
    "# Credentials (INSERT YOUR KEYS AND TOKENS IN THE STRINGS BELOW)\n",
    "\n",
    "api_key = 'zxLaj80ncq7Lbwmp3rymaS7pq'\n",
    "api_secret = 'bXMZZZD74C5TuqaHO9c5mFgVOxSZDutO4cKQ11oFx96bxkG2f0'\n",
    "bearer_token = r'AAAAAAAAAAAAAAAAAAAAAHY5hgEAAAAArW3fPAPtl8cy2jpDdH6z8Ky14vE%3DL6Ysu5eGYLvkEWfTblTh3x5UDcBdQRJgedPIVTpYdxqs0aFnSM'\n",
    "access_token = '1228500338912743425-sV66JFOTer2BtQyJHUv7GMWo4eKV50'\n",
    "access_token_secret = 'HTYlI7UmiNn2SV3WEdnTtelMDpSUWJWmBrhMHeRZHutD9'"
   ]
  },
  {
   "cell_type": "markdown",
   "metadata": {},
   "source": [
    "---"
   ]
  },
  {
   "cell_type": "code",
   "execution_count": 10,
   "metadata": {},
   "outputs": [],
   "source": [
    "import requests\n",
    "import os\n",
    "import json\n"
   ]
  },
  {
   "cell_type": "code",
   "execution_count": 11,
   "metadata": {},
   "outputs": [],
   "source": [
    "def bearer_oauth(r):\n",
    "    \"\"\"\n",
    "    Method required by bearer token authentication.\n",
    "    \"\"\"\n",
    "\n",
    "    r.headers[\"Authorization\"] = f\"Bearer {bearer_token}\"\n",
    "    r.headers[\"User-Agent\"] = \"v2FilteredStreamPython\"\n",
    "    return r"
   ]
  },
  {
   "cell_type": "code",
   "execution_count": 12,
   "metadata": {},
   "outputs": [],
   "source": [
    "def get_rules():\n",
    "    response = requests.get(\n",
    "        \"https://api.twitter.com/2/tweets/search/stream/rules\", auth=bearer_oauth\n",
    "    )\n",
    "    if response.status_code != 200:\n",
    "        raise Exception(\n",
    "            \"Cannot get rules (HTTP {}): {}\".format(response.status_code, response.text)\n",
    "        )\n",
    "    print('Get rules')\n",
    "    print(json.dumps(response.json()))\n",
    "    return response.json()"
   ]
  },
  {
   "cell_type": "code",
   "execution_count": 13,
   "metadata": {},
   "outputs": [],
   "source": [
    "def delete_all_rules(rules):\n",
    "    if rules is None or \"data\" not in rules:\n",
    "        return None\n",
    "\n",
    "    ids = list(map(lambda rule: rule[\"id\"], rules[\"data\"]))\n",
    "    payload = {\"delete\": {\"ids\": ids}}\n",
    "    response = requests.post(\n",
    "        \"https://api.twitter.com/2/tweets/search/stream/rules\",\n",
    "        auth=bearer_oauth,\n",
    "        json=payload\n",
    "    )\n",
    "    if response.status_code != 200:\n",
    "        raise Exception(\n",
    "            \"Cannot delete rules (HTTP {}): {}\".format(\n",
    "                response.status_code, response.text\n",
    "            )\n",
    "        )\n",
    "    print('Delete all rules')\n",
    "    print(json.dumps(response.json()))\n",
    "    return response.json()\n",
    "\n"
   ]
  },
  {
   "cell_type": "code",
   "execution_count": 88,
   "metadata": {},
   "outputs": [],
   "source": [
    "def set_rules(delete):\n",
    "    # You can adjust the rules if needed\n",
    "    sample_rules = [\n",
    "        #{\"value\": \"dog has:images\", \"tag\": \"dog pictures\"},\n",
    "        #{\"value\": \"cat has:images -grumpy\", \"tag\": \"cat pictures\"}\n",
    "        #{\"value\": \"Bolsonaro\"},\n",
    "        #{\"value\": \"Lula\"}\n",
    "        {'value': 'cat dog has:images has:videos'},\n",
    "        #{'value': 'suck has:images'}\n",
    "    ]\n",
    "    payload = {\"add\": sample_rules}\n",
    "    response = requests.post(\n",
    "        \"https://api.twitter.com/2/tweets/search/stream/rules\",\n",
    "        auth=bearer_oauth,\n",
    "        json=payload,\n",
    "    )\n",
    "    if response.status_code != 201:\n",
    "        raise Exception(\n",
    "            \"Cannot add rules (HTTP {}): {}\".format(response.status_code, response.text)\n",
    "        )\n",
    "    print('Set rules')\n",
    "    print(json.dumps(response.json()))\n"
   ]
  },
  {
   "cell_type": "code",
   "execution_count": 89,
   "metadata": {},
   "outputs": [],
   "source": [
    "list_results = []\n",
    "def get_stream(set, limit = 10):\n",
    "    response = requests.get(\n",
    "        \"https://api.twitter.com/2/tweets/search/stream\", auth=bearer_oauth, stream=True,\n",
    "    )\n",
    "    print(response.status_code)\n",
    "    if response.status_code != 200:\n",
    "        raise Exception(\n",
    "            \"Cannot get stream (HTTP {}): {}\".format(\n",
    "                response.status_code, response.text\n",
    "            )\n",
    "        )\n",
    "\n",
    "    \n",
    "    cont = 0\n",
    "    for response_line in response.iter_lines():\n",
    "        if cont == limit:\n",
    "            break\n",
    "\n",
    "        if response_line:\n",
    "            json_response = json.loads(response_line)\n",
    "            list_results.append(json_response)\n",
    "            cont += 1\n",
    "\n",
    "    print('Tweets coletados')\n",
    "\n",
    "    return list_results\n"
   ]
  },
  {
   "cell_type": "code",
   "execution_count": 90,
   "metadata": {},
   "outputs": [
    {
     "name": "stdout",
     "output_type": "stream",
     "text": [
      "Get rules\n",
      "{\"data\": [{\"id\": \"1575889688040275968\", \"value\": \"blowjob has:images has:videos\"}, {\"id\": \"1575889688040275969\", \"value\": \"suck has:images\"}], \"meta\": {\"sent\": \"2022-09-30T17:10:24.379Z\", \"result_count\": 2}}\n",
      "Delete all rules\n",
      "{\"meta\": {\"sent\": \"2022-09-30T17:10:25.964Z\", \"summary\": {\"deleted\": 2, \"not_deleted\": 0}}}\n",
      "Set rules\n",
      "{\"data\": [{\"value\": \"cat dog has:images has:videos\", \"id\": \"1575895859174203396\"}], \"meta\": {\"sent\": \"2022-09-30T17:10:27.428Z\", \"summary\": {\"created\": 1, \"not_created\": 0, \"valid\": 1, \"invalid\": 0}}}\n",
      "200\n"
     ]
    },
    {
     "ename": "KeyboardInterrupt",
     "evalue": "",
     "output_type": "error",
     "traceback": [
      "\u001b[1;31m---------------------------------------------------------------------------\u001b[0m",
      "\u001b[1;31mKeyboardInterrupt\u001b[0m                         Traceback (most recent call last)",
      "\u001b[1;32m~\\AppData\\Local\\Temp/ipykernel_8584/1311641604.py\u001b[0m in \u001b[0;36m<module>\u001b[1;34m\u001b[0m\n\u001b[0;32m      4\u001b[0m \u001b[0mdelete\u001b[0m \u001b[1;33m=\u001b[0m \u001b[0mdelete_all_rules\u001b[0m\u001b[1;33m(\u001b[0m\u001b[0mrules\u001b[0m\u001b[1;33m)\u001b[0m\u001b[1;33m\u001b[0m\u001b[1;33m\u001b[0m\u001b[0m\n\u001b[0;32m      5\u001b[0m \u001b[0mset\u001b[0m \u001b[1;33m=\u001b[0m \u001b[0mset_rules\u001b[0m\u001b[1;33m(\u001b[0m\u001b[0mdelete\u001b[0m\u001b[1;33m)\u001b[0m\u001b[1;33m\u001b[0m\u001b[1;33m\u001b[0m\u001b[0m\n\u001b[1;32m----> 6\u001b[1;33m \u001b[0mresults\u001b[0m \u001b[1;33m=\u001b[0m \u001b[0mget_stream\u001b[0m\u001b[1;33m(\u001b[0m\u001b[0mset\u001b[0m\u001b[1;33m,\u001b[0m \u001b[0mTWEETS_LIMIT\u001b[0m\u001b[1;33m)\u001b[0m\u001b[1;33m\u001b[0m\u001b[1;33m\u001b[0m\u001b[0m\n\u001b[0m",
      "\u001b[1;32m~\\AppData\\Local\\Temp/ipykernel_8584/1535358864.py\u001b[0m in \u001b[0;36mget_stream\u001b[1;34m(set, limit)\u001b[0m\n\u001b[0;32m     14\u001b[0m \u001b[1;33m\u001b[0m\u001b[0m\n\u001b[0;32m     15\u001b[0m     \u001b[0mcont\u001b[0m \u001b[1;33m=\u001b[0m \u001b[1;36m0\u001b[0m\u001b[1;33m\u001b[0m\u001b[1;33m\u001b[0m\u001b[0m\n\u001b[1;32m---> 16\u001b[1;33m     \u001b[1;32mfor\u001b[0m \u001b[0mresponse_line\u001b[0m \u001b[1;32min\u001b[0m \u001b[0mresponse\u001b[0m\u001b[1;33m.\u001b[0m\u001b[0miter_lines\u001b[0m\u001b[1;33m(\u001b[0m\u001b[1;33m)\u001b[0m\u001b[1;33m:\u001b[0m\u001b[1;33m\u001b[0m\u001b[1;33m\u001b[0m\u001b[0m\n\u001b[0m\u001b[0;32m     17\u001b[0m         \u001b[1;32mif\u001b[0m \u001b[0mcont\u001b[0m \u001b[1;33m==\u001b[0m \u001b[0mlimit\u001b[0m\u001b[1;33m:\u001b[0m\u001b[1;33m\u001b[0m\u001b[1;33m\u001b[0m\u001b[0m\n\u001b[0;32m     18\u001b[0m             \u001b[1;32mbreak\u001b[0m\u001b[1;33m\u001b[0m\u001b[1;33m\u001b[0m\u001b[0m\n",
      "\u001b[1;32mC:\\ProgramData\\Anaconda3\\lib\\site-packages\\requests\\models.py\u001b[0m in \u001b[0;36miter_lines\u001b[1;34m(self, chunk_size, decode_unicode, delimiter)\u001b[0m\n\u001b[0;32m    802\u001b[0m         \u001b[0mpending\u001b[0m \u001b[1;33m=\u001b[0m \u001b[1;32mNone\u001b[0m\u001b[1;33m\u001b[0m\u001b[1;33m\u001b[0m\u001b[0m\n\u001b[0;32m    803\u001b[0m \u001b[1;33m\u001b[0m\u001b[0m\n\u001b[1;32m--> 804\u001b[1;33m         \u001b[1;32mfor\u001b[0m \u001b[0mchunk\u001b[0m \u001b[1;32min\u001b[0m \u001b[0mself\u001b[0m\u001b[1;33m.\u001b[0m\u001b[0miter_content\u001b[0m\u001b[1;33m(\u001b[0m\u001b[0mchunk_size\u001b[0m\u001b[1;33m=\u001b[0m\u001b[0mchunk_size\u001b[0m\u001b[1;33m,\u001b[0m \u001b[0mdecode_unicode\u001b[0m\u001b[1;33m=\u001b[0m\u001b[0mdecode_unicode\u001b[0m\u001b[1;33m)\u001b[0m\u001b[1;33m:\u001b[0m\u001b[1;33m\u001b[0m\u001b[1;33m\u001b[0m\u001b[0m\n\u001b[0m\u001b[0;32m    805\u001b[0m \u001b[1;33m\u001b[0m\u001b[0m\n\u001b[0;32m    806\u001b[0m             \u001b[1;32mif\u001b[0m \u001b[0mpending\u001b[0m \u001b[1;32mis\u001b[0m \u001b[1;32mnot\u001b[0m \u001b[1;32mNone\u001b[0m\u001b[1;33m:\u001b[0m\u001b[1;33m\u001b[0m\u001b[1;33m\u001b[0m\u001b[0m\n",
      "\u001b[1;32mC:\\ProgramData\\Anaconda3\\lib\\site-packages\\requests\\models.py\u001b[0m in \u001b[0;36mgenerate\u001b[1;34m()\u001b[0m\n\u001b[0;32m    758\u001b[0m             \u001b[1;32mif\u001b[0m \u001b[0mhasattr\u001b[0m\u001b[1;33m(\u001b[0m\u001b[0mself\u001b[0m\u001b[1;33m.\u001b[0m\u001b[0mraw\u001b[0m\u001b[1;33m,\u001b[0m \u001b[1;34m'stream'\u001b[0m\u001b[1;33m)\u001b[0m\u001b[1;33m:\u001b[0m\u001b[1;33m\u001b[0m\u001b[1;33m\u001b[0m\u001b[0m\n\u001b[0;32m    759\u001b[0m                 \u001b[1;32mtry\u001b[0m\u001b[1;33m:\u001b[0m\u001b[1;33m\u001b[0m\u001b[1;33m\u001b[0m\u001b[0m\n\u001b[1;32m--> 760\u001b[1;33m                     \u001b[1;32mfor\u001b[0m \u001b[0mchunk\u001b[0m \u001b[1;32min\u001b[0m \u001b[0mself\u001b[0m\u001b[1;33m.\u001b[0m\u001b[0mraw\u001b[0m\u001b[1;33m.\u001b[0m\u001b[0mstream\u001b[0m\u001b[1;33m(\u001b[0m\u001b[0mchunk_size\u001b[0m\u001b[1;33m,\u001b[0m \u001b[0mdecode_content\u001b[0m\u001b[1;33m=\u001b[0m\u001b[1;32mTrue\u001b[0m\u001b[1;33m)\u001b[0m\u001b[1;33m:\u001b[0m\u001b[1;33m\u001b[0m\u001b[1;33m\u001b[0m\u001b[0m\n\u001b[0m\u001b[0;32m    761\u001b[0m                         \u001b[1;32myield\u001b[0m \u001b[0mchunk\u001b[0m\u001b[1;33m\u001b[0m\u001b[1;33m\u001b[0m\u001b[0m\n\u001b[0;32m    762\u001b[0m                 \u001b[1;32mexcept\u001b[0m \u001b[0mProtocolError\u001b[0m \u001b[1;32mas\u001b[0m \u001b[0me\u001b[0m\u001b[1;33m:\u001b[0m\u001b[1;33m\u001b[0m\u001b[1;33m\u001b[0m\u001b[0m\n",
      "\u001b[1;32mC:\\ProgramData\\Anaconda3\\lib\\site-packages\\urllib3\\response.py\u001b[0m in \u001b[0;36mstream\u001b[1;34m(self, amt, decode_content)\u001b[0m\n\u001b[0;32m    570\u001b[0m         \"\"\"\n\u001b[0;32m    571\u001b[0m         \u001b[1;32mif\u001b[0m \u001b[0mself\u001b[0m\u001b[1;33m.\u001b[0m\u001b[0mchunked\u001b[0m \u001b[1;32mand\u001b[0m \u001b[0mself\u001b[0m\u001b[1;33m.\u001b[0m\u001b[0msupports_chunked_reads\u001b[0m\u001b[1;33m(\u001b[0m\u001b[1;33m)\u001b[0m\u001b[1;33m:\u001b[0m\u001b[1;33m\u001b[0m\u001b[1;33m\u001b[0m\u001b[0m\n\u001b[1;32m--> 572\u001b[1;33m             \u001b[1;32mfor\u001b[0m \u001b[0mline\u001b[0m \u001b[1;32min\u001b[0m \u001b[0mself\u001b[0m\u001b[1;33m.\u001b[0m\u001b[0mread_chunked\u001b[0m\u001b[1;33m(\u001b[0m\u001b[0mamt\u001b[0m\u001b[1;33m,\u001b[0m \u001b[0mdecode_content\u001b[0m\u001b[1;33m=\u001b[0m\u001b[0mdecode_content\u001b[0m\u001b[1;33m)\u001b[0m\u001b[1;33m:\u001b[0m\u001b[1;33m\u001b[0m\u001b[1;33m\u001b[0m\u001b[0m\n\u001b[0m\u001b[0;32m    573\u001b[0m                 \u001b[1;32myield\u001b[0m \u001b[0mline\u001b[0m\u001b[1;33m\u001b[0m\u001b[1;33m\u001b[0m\u001b[0m\n\u001b[0;32m    574\u001b[0m         \u001b[1;32melse\u001b[0m\u001b[1;33m:\u001b[0m\u001b[1;33m\u001b[0m\u001b[1;33m\u001b[0m\u001b[0m\n",
      "\u001b[1;32mC:\\ProgramData\\Anaconda3\\lib\\site-packages\\urllib3\\response.py\u001b[0m in \u001b[0;36mread_chunked\u001b[1;34m(self, amt, decode_content)\u001b[0m\n\u001b[0;32m    762\u001b[0m \u001b[1;33m\u001b[0m\u001b[0m\n\u001b[0;32m    763\u001b[0m             \u001b[1;32mwhile\u001b[0m \u001b[1;32mTrue\u001b[0m\u001b[1;33m:\u001b[0m\u001b[1;33m\u001b[0m\u001b[1;33m\u001b[0m\u001b[0m\n\u001b[1;32m--> 764\u001b[1;33m                 \u001b[0mself\u001b[0m\u001b[1;33m.\u001b[0m\u001b[0m_update_chunk_length\u001b[0m\u001b[1;33m(\u001b[0m\u001b[1;33m)\u001b[0m\u001b[1;33m\u001b[0m\u001b[1;33m\u001b[0m\u001b[0m\n\u001b[0m\u001b[0;32m    765\u001b[0m                 \u001b[1;32mif\u001b[0m \u001b[0mself\u001b[0m\u001b[1;33m.\u001b[0m\u001b[0mchunk_left\u001b[0m \u001b[1;33m==\u001b[0m \u001b[1;36m0\u001b[0m\u001b[1;33m:\u001b[0m\u001b[1;33m\u001b[0m\u001b[1;33m\u001b[0m\u001b[0m\n\u001b[0;32m    766\u001b[0m                     \u001b[1;32mbreak\u001b[0m\u001b[1;33m\u001b[0m\u001b[1;33m\u001b[0m\u001b[0m\n",
      "\u001b[1;32mC:\\ProgramData\\Anaconda3\\lib\\site-packages\\urllib3\\response.py\u001b[0m in \u001b[0;36m_update_chunk_length\u001b[1;34m(self)\u001b[0m\n\u001b[0;32m    692\u001b[0m         \u001b[1;32mif\u001b[0m \u001b[0mself\u001b[0m\u001b[1;33m.\u001b[0m\u001b[0mchunk_left\u001b[0m \u001b[1;32mis\u001b[0m \u001b[1;32mnot\u001b[0m \u001b[1;32mNone\u001b[0m\u001b[1;33m:\u001b[0m\u001b[1;33m\u001b[0m\u001b[1;33m\u001b[0m\u001b[0m\n\u001b[0;32m    693\u001b[0m             \u001b[1;32mreturn\u001b[0m\u001b[1;33m\u001b[0m\u001b[1;33m\u001b[0m\u001b[0m\n\u001b[1;32m--> 694\u001b[1;33m         \u001b[0mline\u001b[0m \u001b[1;33m=\u001b[0m \u001b[0mself\u001b[0m\u001b[1;33m.\u001b[0m\u001b[0m_fp\u001b[0m\u001b[1;33m.\u001b[0m\u001b[0mfp\u001b[0m\u001b[1;33m.\u001b[0m\u001b[0mreadline\u001b[0m\u001b[1;33m(\u001b[0m\u001b[1;33m)\u001b[0m\u001b[1;33m\u001b[0m\u001b[1;33m\u001b[0m\u001b[0m\n\u001b[0m\u001b[0;32m    695\u001b[0m         \u001b[0mline\u001b[0m \u001b[1;33m=\u001b[0m \u001b[0mline\u001b[0m\u001b[1;33m.\u001b[0m\u001b[0msplit\u001b[0m\u001b[1;33m(\u001b[0m\u001b[1;34mb\";\"\u001b[0m\u001b[1;33m,\u001b[0m \u001b[1;36m1\u001b[0m\u001b[1;33m)\u001b[0m\u001b[1;33m[\u001b[0m\u001b[1;36m0\u001b[0m\u001b[1;33m]\u001b[0m\u001b[1;33m\u001b[0m\u001b[1;33m\u001b[0m\u001b[0m\n\u001b[0;32m    696\u001b[0m         \u001b[1;32mtry\u001b[0m\u001b[1;33m:\u001b[0m\u001b[1;33m\u001b[0m\u001b[1;33m\u001b[0m\u001b[0m\n",
      "\u001b[1;32mC:\\ProgramData\\Anaconda3\\lib\\socket.py\u001b[0m in \u001b[0;36mreadinto\u001b[1;34m(self, b)\u001b[0m\n\u001b[0;32m    702\u001b[0m         \u001b[1;32mwhile\u001b[0m \u001b[1;32mTrue\u001b[0m\u001b[1;33m:\u001b[0m\u001b[1;33m\u001b[0m\u001b[1;33m\u001b[0m\u001b[0m\n\u001b[0;32m    703\u001b[0m             \u001b[1;32mtry\u001b[0m\u001b[1;33m:\u001b[0m\u001b[1;33m\u001b[0m\u001b[1;33m\u001b[0m\u001b[0m\n\u001b[1;32m--> 704\u001b[1;33m                 \u001b[1;32mreturn\u001b[0m \u001b[0mself\u001b[0m\u001b[1;33m.\u001b[0m\u001b[0m_sock\u001b[0m\u001b[1;33m.\u001b[0m\u001b[0mrecv_into\u001b[0m\u001b[1;33m(\u001b[0m\u001b[0mb\u001b[0m\u001b[1;33m)\u001b[0m\u001b[1;33m\u001b[0m\u001b[1;33m\u001b[0m\u001b[0m\n\u001b[0m\u001b[0;32m    705\u001b[0m             \u001b[1;32mexcept\u001b[0m \u001b[0mtimeout\u001b[0m\u001b[1;33m:\u001b[0m\u001b[1;33m\u001b[0m\u001b[1;33m\u001b[0m\u001b[0m\n\u001b[0;32m    706\u001b[0m                 \u001b[0mself\u001b[0m\u001b[1;33m.\u001b[0m\u001b[0m_timeout_occurred\u001b[0m \u001b[1;33m=\u001b[0m \u001b[1;32mTrue\u001b[0m\u001b[1;33m\u001b[0m\u001b[1;33m\u001b[0m\u001b[0m\n",
      "\u001b[1;32mC:\\ProgramData\\Anaconda3\\lib\\ssl.py\u001b[0m in \u001b[0;36mrecv_into\u001b[1;34m(self, buffer, nbytes, flags)\u001b[0m\n\u001b[0;32m   1239\u001b[0m                   \u001b[1;34m\"non-zero flags not allowed in calls to recv_into() on %s\"\u001b[0m \u001b[1;33m%\u001b[0m\u001b[1;33m\u001b[0m\u001b[1;33m\u001b[0m\u001b[0m\n\u001b[0;32m   1240\u001b[0m                   self.__class__)\n\u001b[1;32m-> 1241\u001b[1;33m             \u001b[1;32mreturn\u001b[0m \u001b[0mself\u001b[0m\u001b[1;33m.\u001b[0m\u001b[0mread\u001b[0m\u001b[1;33m(\u001b[0m\u001b[0mnbytes\u001b[0m\u001b[1;33m,\u001b[0m \u001b[0mbuffer\u001b[0m\u001b[1;33m)\u001b[0m\u001b[1;33m\u001b[0m\u001b[1;33m\u001b[0m\u001b[0m\n\u001b[0m\u001b[0;32m   1242\u001b[0m         \u001b[1;32melse\u001b[0m\u001b[1;33m:\u001b[0m\u001b[1;33m\u001b[0m\u001b[1;33m\u001b[0m\u001b[0m\n\u001b[0;32m   1243\u001b[0m             \u001b[1;32mreturn\u001b[0m \u001b[0msuper\u001b[0m\u001b[1;33m(\u001b[0m\u001b[1;33m)\u001b[0m\u001b[1;33m.\u001b[0m\u001b[0mrecv_into\u001b[0m\u001b[1;33m(\u001b[0m\u001b[0mbuffer\u001b[0m\u001b[1;33m,\u001b[0m \u001b[0mnbytes\u001b[0m\u001b[1;33m,\u001b[0m \u001b[0mflags\u001b[0m\u001b[1;33m)\u001b[0m\u001b[1;33m\u001b[0m\u001b[1;33m\u001b[0m\u001b[0m\n",
      "\u001b[1;32mC:\\ProgramData\\Anaconda3\\lib\\ssl.py\u001b[0m in \u001b[0;36mread\u001b[1;34m(self, len, buffer)\u001b[0m\n\u001b[0;32m   1097\u001b[0m         \u001b[1;32mtry\u001b[0m\u001b[1;33m:\u001b[0m\u001b[1;33m\u001b[0m\u001b[1;33m\u001b[0m\u001b[0m\n\u001b[0;32m   1098\u001b[0m             \u001b[1;32mif\u001b[0m \u001b[0mbuffer\u001b[0m \u001b[1;32mis\u001b[0m \u001b[1;32mnot\u001b[0m \u001b[1;32mNone\u001b[0m\u001b[1;33m:\u001b[0m\u001b[1;33m\u001b[0m\u001b[1;33m\u001b[0m\u001b[0m\n\u001b[1;32m-> 1099\u001b[1;33m                 \u001b[1;32mreturn\u001b[0m \u001b[0mself\u001b[0m\u001b[1;33m.\u001b[0m\u001b[0m_sslobj\u001b[0m\u001b[1;33m.\u001b[0m\u001b[0mread\u001b[0m\u001b[1;33m(\u001b[0m\u001b[0mlen\u001b[0m\u001b[1;33m,\u001b[0m \u001b[0mbuffer\u001b[0m\u001b[1;33m)\u001b[0m\u001b[1;33m\u001b[0m\u001b[1;33m\u001b[0m\u001b[0m\n\u001b[0m\u001b[0;32m   1100\u001b[0m             \u001b[1;32melse\u001b[0m\u001b[1;33m:\u001b[0m\u001b[1;33m\u001b[0m\u001b[1;33m\u001b[0m\u001b[0m\n\u001b[0;32m   1101\u001b[0m                 \u001b[1;32mreturn\u001b[0m \u001b[0mself\u001b[0m\u001b[1;33m.\u001b[0m\u001b[0m_sslobj\u001b[0m\u001b[1;33m.\u001b[0m\u001b[0mread\u001b[0m\u001b[1;33m(\u001b[0m\u001b[0mlen\u001b[0m\u001b[1;33m)\u001b[0m\u001b[1;33m\u001b[0m\u001b[1;33m\u001b[0m\u001b[0m\n",
      "\u001b[1;31mKeyboardInterrupt\u001b[0m: "
     ]
    }
   ],
   "source": [
    "TWEETS_LIMIT = 100\n",
    "\n",
    "rules = get_rules()\n",
    "delete = delete_all_rules(rules)\n",
    "set = set_rules(delete)\n",
    "results = get_stream(set, TWEETS_LIMIT)"
   ]
  },
  {
   "cell_type": "code",
   "execution_count": 91,
   "metadata": {},
   "outputs": [
    {
     "data": {
      "text/plain": [
       "[{'data': {'edit_history_tweet_ids': ['1575895856540155904'],\n",
       "   'id': '1575895856540155904',\n",
       "   'text': 'RT @xxhannahmoore: i think i have something right here that you’d like to suck 😳✨ https://t.co/HLnTNFSFtT'},\n",
       "  'matching_rules': [{'id': '1575889688040275969', 'tag': ''}]}]"
      ]
     },
     "execution_count": 91,
     "metadata": {},
     "output_type": "execute_result"
    }
   ],
   "source": [
    "list_results"
   ]
  },
  {
   "cell_type": "code",
   "execution_count": 86,
   "metadata": {},
   "outputs": [],
   "source": [
    "import re\n",
    "\n",
    "lst_text = []\n",
    "for result in results:\n",
    "    res = 'http' + re.search(r'(?<=https).*',result['data']['text']).group()\n",
    "    \n",
    "    lst_text.append(res)"
   ]
  },
  {
   "cell_type": "code",
   "execution_count": 87,
   "metadata": {},
   "outputs": [
    {
     "data": {
      "text/plain": [
       "['http://t.co/h4d9PCG1sO',\n",
       " 'http://t.co/pxWyALUhBs',\n",
       " 'http://t.co/EwWTr0Xgwj',\n",
       " 'http://t.co/cXi4kplBrr',\n",
       " 'http://t.co/ACMblRkFTv',\n",
       " 'http://t.co/j0cL4CkXv9',\n",
       " 'http://t.co/32T9HwpCCN https://t.co/OvSd5vdIwv',\n",
       " 'http://t.co/fPQT7K1UoR',\n",
       " 'http://t.co/t8yuHjSV9y',\n",
       " 'http://t.co/h4d9PCG1sO',\n",
       " 'http://t.co/bvs3k7Hwfx',\n",
       " 'http://t.co/h4d9PCG1sO',\n",
       " 'http://t.co/EwWTr0Xgwj',\n",
       " 'http://t.co/IYVrrDY3Ar',\n",
       " 'http://t.co/OpxAaedgxm',\n",
       " 'http://t.co/jhdYqPqdFP',\n",
       " 'http://t.co/hVYWUZ5wGx',\n",
       " 'http://t.co/NKcDmCg3vV',\n",
       " 'http://t.co/EwWTr0Xgwj',\n",
       " 'http://t.co/MvMmOlnhHM',\n",
       " 'http://t.co/h4d9PCG1sO',\n",
       " 'http://t.co/MvMmOlnhHM',\n",
       " 'http://t.co/h4d9PCG1sO',\n",
       " 'http://t.co/MvMmOlnhHM',\n",
       " 'http://t.co/HLnTNFSFtT',\n",
       " 'http://t.co/MvMmOlnhHM',\n",
       " 'http://t.co/RrNxjA2okJ',\n",
       " 'http://t.co/HLnTNFSFtT',\n",
       " 'http://t.co/MvMmOlnhHM',\n",
       " 'http://t.co/hxfggNoogB',\n",
       " 'http://t.co/efpbfgiJnv',\n",
       " 'http://t.co/IF4rRmNQMA',\n",
       " 'http://t.co/7gAsMvbpCJ https://t.co/l5gKHUkL5H',\n",
       " 'http://t.co/41IzgZLV4g',\n",
       " 'http://t.co/h4d9PCG1sO',\n",
       " 'http://t.co/JnZXdb4rW0',\n",
       " 'http://t.co/h4d9PCG1sO',\n",
       " 'http://t.co/Z8gvKgppAU',\n",
       " 'http://t.co/h4d9PCG1sO',\n",
       " 'http://t.co/3sVFcS6uji',\n",
       " 'http://t.co/73jfvoe3Ms',\n",
       " 'http://t.co/CBLN9Kw4x9',\n",
       " 'http://t.co/IahzQa2se9',\n",
       " 'http://t.co/PZ6CbdOHsd',\n",
       " 'http://t.co/CBLN9Kw4x9',\n",
       " 'http://t.co/h4d9PCG1sO',\n",
       " 'http://t.co/EwWTr0Xgwj',\n",
       " 'http://t.co/DazrxRoPXm',\n",
       " 'http://t.co/VQmDPgPTTN',\n",
       " 'http://t.co/CBLN9Kw4x9',\n",
       " 'http://t.co/HLnTNFSFtT',\n",
       " 'http://t.co/vosltEtxw4',\n",
       " 'http://t.co/h4d9PCG1sO',\n",
       " 'http://t.co/EwWTr0Xgwj',\n",
       " 'http://t.co/74eSoKVyrH',\n",
       " 'http://t.co/h4d9PCG1sO',\n",
       " 'http://t.co/lSDa7opcfd',\n",
       " 'http://t.co/h4d9PCG1sO',\n",
       " 'http://t.co/CBLN9Kw4x9',\n",
       " 'http://t.co/h4d9PCG1sO',\n",
       " 'http://t.co/xEzTGdGZe2',\n",
       " 'http://t.co/OQiM67yRlO',\n",
       " 'http://t.co/O9XMY3P1i0',\n",
       " 'http://t.co/h4d9PCG1sO',\n",
       " 'http://t.co/M56bcmbIeJ',\n",
       " 'http://t.co/EwWTr0Xgwj',\n",
       " 'http://t.co/3KeQw70Doo',\n",
       " 'http://t.co/CBLN9Kw4x9',\n",
       " 'http://t.co/CLUv1nlW3x',\n",
       " 'http://t.co/fPQT7K1UoR',\n",
       " 'http://t.co/h4d9PCG1sO',\n",
       " 'http://t.co/CBLN9Kw4x9',\n",
       " 'http://t.co/05Aztb1xn1',\n",
       " 'http://t.co/COZK8Vmf55',\n",
       " 'http://t.co/XkxtugVhD7',\n",
       " 'http://t.co/h4d9PCG1sO',\n",
       " 'http://t.co/h4d9PCG1sO',\n",
       " 'http://t.co/Bipk8TqL22',\n",
       " 'http://t.co/upLoYIMBAU',\n",
       " 'http://t.co/h4d9PCG1sO',\n",
       " 'http://t.co/oBkVuquOdo',\n",
       " 'http://t.co/h4d9PCG1sO',\n",
       " 'http://t.co/dQgggSwC8f',\n",
       " 'http://t.co/EwWTr0Xgwj',\n",
       " 'http://t.co/h4d9PCG1sO',\n",
       " 'http://t.co/IahzQa2se9',\n",
       " 'http://t.co/vol5Am0EBB',\n",
       " 'http://t.co/aDEdnlizfa',\n",
       " 'http://t.co/rjKJgGt5LK',\n",
       " 'http://t.co/yYJFcGVqxC',\n",
       " 'http://t.co/Z6voHRornr',\n",
       " 'http://t.co/EwWTr0Xgwj',\n",
       " 'http://t.co/fjtgdYXwBT',\n",
       " 'http://t.co/CBLN9Kw4x9',\n",
       " 'http://t.co/CBLN9Kw4x9',\n",
       " 'http://t.co/fTJjCfIRK0',\n",
       " 'http://t.co/81KFgCzWWx',\n",
       " 'http://t.co/jhT5uwVBpq',\n",
       " 'http://t.co/CBLN9Kw4x9',\n",
       " 'http://t.co/RrNxjA2okJ']"
      ]
     },
     "execution_count": 87,
     "metadata": {},
     "output_type": "execute_result"
    }
   ],
   "source": [
    "lst_text"
   ]
  },
  {
   "cell_type": "code",
   "execution_count": 44,
   "metadata": {},
   "outputs": [],
   "source": [
    "import string"
   ]
  },
  {
   "cell_type": "code",
   "execution_count": 64,
   "metadata": {},
   "outputs": [],
   "source": [
    "text = \"Hit this blunt while you suck my toes &amp; I play with my pussy 💦💦💦\\U0001f979 https://t.co/MvMmOlnhHM'\""
   ]
  },
  {
   "cell_type": "code",
   "execution_count": 65,
   "metadata": {},
   "outputs": [],
   "source": []
  },
  {
   "cell_type": "code",
   "execution_count": 84,
   "metadata": {},
   "outputs": [],
   "source": []
  },
  {
   "cell_type": "code",
   "execution_count": 85,
   "metadata": {},
   "outputs": [
    {
     "data": {
      "text/plain": [
       "\"http://t.co/MvMmOlnhHM'\""
      ]
     },
     "execution_count": 85,
     "metadata": {},
     "output_type": "execute_result"
    }
   ],
   "source": [
    "res"
   ]
  },
  {
   "cell_type": "code",
   "execution_count": null,
   "metadata": {},
   "outputs": [],
   "source": []
  },
  {
   "cell_type": "code",
   "execution_count": 92,
   "metadata": {},
   "outputs": [
    {
     "name": "stderr",
     "output_type": "stream",
     "text": [
      "Stream encountered HTTP error: 403\n",
      "Stream encountered HTTP error: 403\n",
      "Stream encountered HTTP error: 403\n",
      "Stream encountered HTTP error: 403\n"
     ]
    },
    {
     "ename": "KeyboardInterrupt",
     "evalue": "",
     "output_type": "error",
     "traceback": [
      "\u001b[1;31m---------------------------------------------------------------------------\u001b[0m",
      "\u001b[1;31mKeyboardInterrupt\u001b[0m                         Traceback (most recent call last)",
      "\u001b[1;32m~\\AppData\\Local\\Temp/ipykernel_8584/2296328438.py\u001b[0m in \u001b[0;36m<module>\u001b[1;34m\u001b[0m\n\u001b[0;32m     26\u001b[0m   \u001b[0maccess_token\u001b[0m\u001b[1;33m,\u001b[0m \u001b[0maccess_secret\u001b[0m\u001b[1;33m\u001b[0m\u001b[1;33m\u001b[0m\u001b[0m\n\u001b[0;32m     27\u001b[0m )\n\u001b[1;32m---> 28\u001b[1;33m \u001b[0mtwitter_stream\u001b[0m\u001b[1;33m.\u001b[0m\u001b[0mfilter\u001b[0m\u001b[1;33m(\u001b[0m\u001b[0mtrack\u001b[0m\u001b[1;33m=\u001b[0m\u001b[1;33m[\u001b[0m\u001b[1;34m'#python'\u001b[0m\u001b[1;33m]\u001b[0m\u001b[1;33m)\u001b[0m\u001b[1;33m\u001b[0m\u001b[1;33m\u001b[0m\u001b[0m\n\u001b[0m",
      "\u001b[1;32mC:\\ProgramData\\Anaconda3\\lib\\site-packages\\tweepy\\streaming.py\u001b[0m in \u001b[0;36mfilter\u001b[1;34m(self, follow, track, locations, filter_level, languages, stall_warnings, threaded)\u001b[0m\n\u001b[0;32m    363\u001b[0m                                           body=body)\n\u001b[0;32m    364\u001b[0m         \u001b[1;32melse\u001b[0m\u001b[1;33m:\u001b[0m\u001b[1;33m\u001b[0m\u001b[1;33m\u001b[0m\u001b[0m\n\u001b[1;32m--> 365\u001b[1;33m             \u001b[0mself\u001b[0m\u001b[1;33m.\u001b[0m\u001b[0m_connect\u001b[0m\u001b[1;33m(\u001b[0m\u001b[0mmethod\u001b[0m\u001b[1;33m,\u001b[0m \u001b[0mendpoint\u001b[0m\u001b[1;33m,\u001b[0m \u001b[0mheaders\u001b[0m\u001b[1;33m=\u001b[0m\u001b[0mheaders\u001b[0m\u001b[1;33m,\u001b[0m \u001b[0mbody\u001b[0m\u001b[1;33m=\u001b[0m\u001b[0mbody\u001b[0m\u001b[1;33m)\u001b[0m\u001b[1;33m\u001b[0m\u001b[1;33m\u001b[0m\u001b[0m\n\u001b[0m\u001b[0;32m    366\u001b[0m \u001b[1;33m\u001b[0m\u001b[0m\n\u001b[0;32m    367\u001b[0m     \u001b[1;32mdef\u001b[0m \u001b[0msample\u001b[0m\u001b[1;33m(\u001b[0m\u001b[0mself\u001b[0m\u001b[1;33m,\u001b[0m \u001b[1;33m*\u001b[0m\u001b[1;33m,\u001b[0m \u001b[0mlanguages\u001b[0m\u001b[1;33m=\u001b[0m\u001b[1;32mNone\u001b[0m\u001b[1;33m,\u001b[0m \u001b[0mstall_warnings\u001b[0m\u001b[1;33m=\u001b[0m\u001b[1;32mFalse\u001b[0m\u001b[1;33m,\u001b[0m \u001b[0mthreaded\u001b[0m\u001b[1;33m=\u001b[0m\u001b[1;32mFalse\u001b[0m\u001b[1;33m)\u001b[0m\u001b[1;33m:\u001b[0m\u001b[1;33m\u001b[0m\u001b[1;33m\u001b[0m\u001b[0m\n",
      "\u001b[1;32mC:\\ProgramData\\Anaconda3\\lib\\site-packages\\tweepy\\streaming.py\u001b[0m in \u001b[0;36m_connect\u001b[1;34m(self, method, endpoint, **kwargs)\u001b[0m\n\u001b[0;32m    270\u001b[0m                       self.access_token, self.access_token_secret)\n\u001b[0;32m    271\u001b[0m         \u001b[0murl\u001b[0m \u001b[1;33m=\u001b[0m \u001b[1;34mf\"https://stream.twitter.com/1.1/{endpoint}.json\"\u001b[0m\u001b[1;33m\u001b[0m\u001b[1;33m\u001b[0m\u001b[0m\n\u001b[1;32m--> 272\u001b[1;33m         \u001b[0msuper\u001b[0m\u001b[1;33m(\u001b[0m\u001b[1;33m)\u001b[0m\u001b[1;33m.\u001b[0m\u001b[0m_connect\u001b[0m\u001b[1;33m(\u001b[0m\u001b[0mmethod\u001b[0m\u001b[1;33m,\u001b[0m \u001b[0murl\u001b[0m\u001b[1;33m,\u001b[0m \u001b[0mauth\u001b[0m\u001b[1;33m=\u001b[0m\u001b[0mauth\u001b[0m\u001b[1;33m,\u001b[0m \u001b[1;33m**\u001b[0m\u001b[0mkwargs\u001b[0m\u001b[1;33m)\u001b[0m\u001b[1;33m\u001b[0m\u001b[1;33m\u001b[0m\u001b[0m\n\u001b[0m\u001b[0;32m    273\u001b[0m \u001b[1;33m\u001b[0m\u001b[0m\n\u001b[0;32m    274\u001b[0m     def filter(self, *, follow=None, track=None, locations=None,\n",
      "\u001b[1;32mC:\\ProgramData\\Anaconda3\\lib\\site-packages\\tweepy\\streaming.py\u001b[0m in \u001b[0;36m_connect\u001b[1;34m(self, method, url, auth, params, headers, body)\u001b[0m\n\u001b[0;32m    108\u001b[0m                                     \u001b[0mhttp_error_wait\u001b[0m \u001b[1;33m=\u001b[0m \u001b[0mhttp_420_error_wait_start\u001b[0m\u001b[1;33m\u001b[0m\u001b[1;33m\u001b[0m\u001b[0m\n\u001b[0;32m    109\u001b[0m \u001b[1;33m\u001b[0m\u001b[0m\n\u001b[1;32m--> 110\u001b[1;33m                             \u001b[0msleep\u001b[0m\u001b[1;33m(\u001b[0m\u001b[0mhttp_error_wait\u001b[0m\u001b[1;33m)\u001b[0m\u001b[1;33m\u001b[0m\u001b[1;33m\u001b[0m\u001b[0m\n\u001b[0m\u001b[0;32m    111\u001b[0m \u001b[1;33m\u001b[0m\u001b[0m\n\u001b[0;32m    112\u001b[0m                             \u001b[0mhttp_error_wait\u001b[0m \u001b[1;33m*=\u001b[0m \u001b[1;36m2\u001b[0m\u001b[1;33m\u001b[0m\u001b[1;33m\u001b[0m\u001b[0m\n",
      "\u001b[1;31mKeyboardInterrupt\u001b[0m: "
     ]
    }
   ],
   "source": [
    "# Set up your credentials\n",
    "consumer_key='zxLaj80ncq7Lbwmp3rymaS7pq'\n",
    "consumer_secret='bXMZZZD74C5TuqaHO9c5mFgVOxSZDutO4cKQ11oFx96bxkG2f0'\n",
    "access_token ='1228500338912743425-sV66JFOTer2BtQyJHUv7GMWo4eKV50'\n",
    "access_secret='HTYlI7UmiNn2SV3WEdnTtelMDpSUWJWmBrhMHeRZHutD9'\n",
    "\n",
    "\n",
    "import tweepy\n",
    "\n",
    "class MyListener(tweepy.Stream):\n",
    "    def on_data(self, data):\n",
    "        try:\n",
    "            with open('python.json', 'a') as f:\n",
    "                f.write(data)\n",
    "                return True\n",
    "        except BaseException as e:\n",
    "            print(\"Error on_data: %s\" % str(e))\n",
    "        return True\n",
    "\n",
    "    def on_error(self, status):\n",
    "        print(status)\n",
    "        return True\n",
    "\n",
    "twitter_stream = MyListener(\n",
    "  consumer_key, consumer_secret,\n",
    "  access_token, access_secret\n",
    ")\n",
    "twitter_stream.filter(track=['#python'])"
   ]
  },
  {
   "cell_type": "code",
   "execution_count": null,
   "metadata": {},
   "outputs": [],
   "source": []
  }
 ],
 "metadata": {
  "kernelspec": {
   "display_name": "Python 3 (ipykernel)",
   "language": "python",
   "name": "python3"
  },
  "language_info": {
   "codemirror_mode": {
    "name": "ipython",
    "version": 3
   },
   "file_extension": ".py",
   "mimetype": "text/x-python",
   "name": "python",
   "nbconvert_exporter": "python",
   "pygments_lexer": "ipython3",
   "version": "3.9.7"
  },
  "vscode": {
   "interpreter": {
    "hash": "ad2bdc8ecc057115af97d19610ffacc2b4e99fae6737bb82f5d7fb13d2f2c186"
   }
  }
 },
 "nbformat": 4,
 "nbformat_minor": 2
}
